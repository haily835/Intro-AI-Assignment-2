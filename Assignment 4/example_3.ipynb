{
 "cells": [
  {
   "cell_type": "markdown",
   "metadata": {},
   "source": [
    "![](example3.png)"
   ]
  },
  {
   "cell_type": "code",
   "execution_count": 1,
   "metadata": {},
   "outputs": [],
   "source": [
    "from game import *\n",
    "\n",
    "# Ply 1\n",
    "A = State(player=Player.MAX, label='A')\n",
    "# Ply 2\n",
    "[B, C, D] = [State(player=Player.MIN, label=chr(ord('B') + i)) for i in range(3)]\n",
    "# Ply 3\n",
    "[E, F, G, H, I, J, K, L] = [State(player=Player.MAX, label=chr(ord('E') + i)) for i in range(8)]\n",
    "# Ply 4\n",
    "[M, N, O, P, Q, R, S, T, U, V, W, X, Y, Z]= [State(player=Player.MIN, label=chr(ord('M') + i)) for i in range(14)]\n",
    "\n",
    "A.children = {'a1': B, 'a2': C, 'a3': D}\n",
    "\n",
    "B.children = {'b1': E, 'b2': F, 'b3': G}\n",
    "C.children = {'c1': H, 'c2': I}\n",
    "D.children = {'d1': J, 'd2': K, 'd3': L}\n",
    "\n",
    "E.children = {'e1': M, 'e2': N}\n",
    "F.children = {'f1': O, 'f2': P, 'f3': Q}\n",
    "G.children = {'g1': R}\n",
    "H.children = {'h1': S, 'h2': T}\n",
    "I.children = {'i1': U, 'i2': V}\n",
    "J.children = {'j1': W}\n",
    "K.children = {'k1': X, 'k2': Y}\n",
    "L.children = {'l1': Z}\n",
    "\n",
    "M.children = {'m1': State('M1', 13), 'm2': State('M2', 15), 'm3': State('M3', 4)}\n",
    "N.children = {'n1': State('N1', 12), 'n2': State('N2', 18)}\n",
    "O.children = {'o1': State('O1', 8)}\n",
    "P.children = {'p1': State('P1', 13), 'p2': State('P2', 20)}\n",
    "Q.children = {'q1': State('Q1', 8), 'q2': State('Q2', 11)}\n",
    "R.children = {'r1': State('R1', 17), 'r2': State('R2', 2)}\n",
    "S.children = {'s1': State('S1', 13), 's2': State('S2', 2), 's3': State('S3', 20)}\n",
    "T.children = {'t1': State('T1', 5)}\n",
    "U.children = {'u1': State('U1', 17)}\n",
    "V.children = {'v1': State('V1', 15), 'v2': State('V2', 16), 'v3': State('V3', 17)}\n",
    "W.children = {'w1': State('W1', 12), 'w2': State('W2', 10), 'w3': State('W3', 8)}\n",
    "X.children = {'x1': State('X1', 6), 'x2': State('X2', 12)}\n",
    "Y.children = {'y1': State('Y1', 14)}\n",
    "Z.children = {'z1': State('Z1', 9), 'z2': State('Z2', 10), 'z3': State('Z3', 9)}\n"
   ]
  },
  {
   "cell_type": "code",
   "execution_count": 2,
   "metadata": {},
   "outputs": [
    {
     "data": {
      "text/plain": [
       "(8, 'a3')"
      ]
     },
     "execution_count": 2,
     "metadata": {},
     "output_type": "execute_result"
    }
   ],
   "source": [
    "minimax_search(Game(), A)"
   ]
  },
  {
   "cell_type": "code",
   "execution_count": 3,
   "metadata": {},
   "outputs": [
    {
     "data": {
      "text/plain": [
       "(8, 'a3')"
      ]
     },
     "execution_count": 3,
     "metadata": {},
     "output_type": "execute_result"
    }
   ],
   "source": [
    "alphabeta_search(Game(), A)"
   ]
  }
 ],
 "metadata": {
  "kernelspec": {
   "display_name": "Python 3",
   "language": "python",
   "name": "python3"
  },
  "language_info": {
   "codemirror_mode": {
    "name": "ipython",
    "version": 3
   },
   "file_extension": ".py",
   "mimetype": "text/x-python",
   "name": "python",
   "nbconvert_exporter": "python",
   "pygments_lexer": "ipython3",
   "version": "3.10.4"
  },
  "orig_nbformat": 4
 },
 "nbformat": 4,
 "nbformat_minor": 2
}
