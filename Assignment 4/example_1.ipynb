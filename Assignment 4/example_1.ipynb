{
 "cells": [
  {
   "cell_type": "markdown",
   "metadata": {},
   "source": [
    "![](example1.png) "
   ]
  },
  {
   "cell_type": "code",
   "execution_count": 1,
   "metadata": {},
   "outputs": [],
   "source": [
    "from game import *\n",
    "\n",
    "# Ply 1\n",
    "A = State(player=Player.MAX, label='A')\n",
    "# Ply 2\n",
    "[B, C] = [State(player=Player.MIN, label=chr(ord('B') + i)) for i in range(2)]\n",
    "# Ply 3\n",
    "[D, E, F, G] = [State(player=Player.MAX, label=chr(ord('D') + i)) for i in range(4)]\n",
    "# Ply 4\n",
    "[H, I, J, K, L, M, N, O]= [State(player=Player.MIN, label=chr(ord('H') + i)) for i in range(8)]\n",
    "\n",
    "A.children = {'a1': B, 'a2': C}\n",
    "\n",
    "B.children = {'b1': D, 'b2': E}\n",
    "C.children = {'c1': F, 'c2': G}\n",
    "\n",
    "D.children = {'d1': H, 'd2': I}\n",
    "E.children = {'e1': J, 'e2': K}\n",
    "F.children = {'f1': L, 'f2': M}\n",
    "G.children = {'g1': N, 'g2': O}\n",
    "\n",
    "# [6, 9, 15, 3, 17, 8, 6, 19, 20, 12, 7, 3, 4, 10, 5, 3]\n",
    "H.children = {'h1': State('H1', 6),'h2': State('H2', 9)}\n",
    "I.children = {'i1': State('I1', 15), 'i2': State('I2', 3)}\n",
    "J.children = {'j1': State('J1', 17), 'j2': State('J2', 8)}\n",
    "K.children = {'k1': State('K1', 6),'k2': State('K2', 19)}\n",
    "L.children = {'l1': State('L1', 20), 'l2': State('L2', 12)}\n",
    "M.children = {'m1': State('M1', 7), 'm2': State('M2', 3)}\n",
    "N.children = {'n1': State('N1', 4), 'n2': State('N2', 10)}\n",
    "O.children = {'o1': State('O1', 5), 'o2': State('O2', 3)}"
   ]
  },
  {
   "cell_type": "code",
   "execution_count": 2,
   "metadata": {},
   "outputs": [
    {
     "data": {
      "text/plain": [
       "(6, 'a1')"
      ]
     },
     "execution_count": 2,
     "metadata": {},
     "output_type": "execute_result"
    }
   ],
   "source": [
    "minimax_search(Game(), A)"
   ]
  },
  {
   "cell_type": "code",
   "execution_count": 3,
   "metadata": {},
   "outputs": [
    {
     "data": {
      "text/plain": [
       "(6, 'a1')"
      ]
     },
     "execution_count": 3,
     "metadata": {},
     "output_type": "execute_result"
    }
   ],
   "source": [
    "alphabeta_search(Game(), A)"
   ]
  }
 ],
 "metadata": {
  "kernelspec": {
   "display_name": "Python 3",
   "language": "python",
   "name": "python3"
  },
  "language_info": {
   "codemirror_mode": {
    "name": "ipython",
    "version": 3
   },
   "file_extension": ".py",
   "mimetype": "text/x-python",
   "name": "python",
   "nbconvert_exporter": "python",
   "pygments_lexer": "ipython3",
   "version": "3.10.4"
  },
  "orig_nbformat": 4
 },
 "nbformat": 4,
 "nbformat_minor": 2
}
