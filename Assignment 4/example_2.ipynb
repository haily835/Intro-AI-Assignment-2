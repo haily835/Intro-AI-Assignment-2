{
 "cells": [
  {
   "cell_type": "markdown",
   "metadata": {},
   "source": [
    "![](example2.png) "
   ]
  },
  {
   "cell_type": "code",
   "execution_count": 1,
   "metadata": {},
   "outputs": [],
   "source": [
    "from game import *\n",
    "\n",
    "# Ply 1\n",
    "A = State(player=Player.MAX, label='A')\n",
    "# Ply 2\n",
    "[B, C, D] = [State(player=Player.MIN, label=chr(ord('B') + i)) for i in range(3)]\n",
    "# Ply 3\n",
    "[E, F, G, H, I, J] = [State(player=Player.MAX, label=chr(ord('E') + i)) for i in range(6)]\n",
    "# Ply 4\n",
    "[K, L, M, N, O, P, Q, R, S, T, U, V]= [State(player=Player.MIN, label=chr(ord('K') + i)) for i in range(12)]\n",
    "\n",
    "A.children = {'a1': B, 'a2': C, 'a3': D}\n",
    "\n",
    "B.children = {'b1': E, 'b2': F}\n",
    "C.children = {'c1': G, 'c2': H}\n",
    "D.children = {'d1': I, 'd2': J}\n",
    "\n",
    "E.children = {'e1': K, 'e2': L}\n",
    "F.children = {'f1': M}\n",
    "G.children = {'g1': N, 'g2': O, 'g3': P}\n",
    "H.children = {'h1': Q, 'h2': R}\n",
    "I.children = {'i1': S}\n",
    "J.children = {'j1': T, 'j2': U, 'j3': V}\n",
    "\n",
    "# [9, 7, 9, 13, 2, 20, 5, 9, 19, 20, 14, 4, 8, 15, 6, 8, 20, 11, 19, 8, 2, 20, 6, 5, 4, 11, 7, 10]\n",
    "K.children = {'k1': State('K1', 9), 'k2': State('K2', 7), 'k3': State('K3', 9)}\n",
    "L.children = {'l1': State('L1', 13), 'l2': State('L2', 2)}\n",
    "M.children = {'m1': State('M1', 20), 'm2': State('M2', 5), 'm3': State('M3', 9)}\n",
    "N.children = {'n1': State('N1', 19), 'n2': State('N2', 20)}\n",
    "O.children = {'o1': State('O1', 14)}\n",
    "P.children = {'p1': State('P1', 4), 'p2': State('P2', 8), 'p3': State('P3', 15)}\n",
    "Q.children = {'q1': State('Q1', 6), 'q2': State('Q2', 8)}\n",
    "R.children = {'r1': State('R1', 20),'r2': State('R2', 11), 'r3': State('R3', 19)}\n",
    "S.children = {'s1': State('S1', 8), 's2': State('S2', 2), 's3': State('S3', 20)}\n",
    "T.children = {'t1': State('T1', 6)}\n",
    "U.children = {'u1': State('U1', 5), 'u2': State('U2', 4)}\n",
    "V.children = {'v1': State('V1', 11), 'v2': State('V2', 7), 'v3': State('V3', 10)}\n"
   ]
  },
  {
   "cell_type": "code",
   "execution_count": 2,
   "metadata": {},
   "outputs": [
    {
     "data": {
      "text/plain": [
       "(11, 'a2')"
      ]
     },
     "execution_count": 2,
     "metadata": {},
     "output_type": "execute_result"
    }
   ],
   "source": [
    "minimax_search(Game(), A)"
   ]
  },
  {
   "cell_type": "code",
   "execution_count": 3,
   "metadata": {},
   "outputs": [
    {
     "data": {
      "text/plain": [
       "(11, 'a2')"
      ]
     },
     "execution_count": 3,
     "metadata": {},
     "output_type": "execute_result"
    }
   ],
   "source": [
    "alphabeta_search(Game(), A)"
   ]
  }
 ],
 "metadata": {
  "kernelspec": {
   "display_name": "Python 3",
   "language": "python",
   "name": "python3"
  },
  "language_info": {
   "codemirror_mode": {
    "name": "ipython",
    "version": 3
   },
   "file_extension": ".py",
   "mimetype": "text/x-python",
   "name": "python",
   "nbconvert_exporter": "python",
   "pygments_lexer": "ipython3",
   "version": "3.10.4"
  },
  "orig_nbformat": 4
 },
 "nbformat": 4,
 "nbformat_minor": 2
}
