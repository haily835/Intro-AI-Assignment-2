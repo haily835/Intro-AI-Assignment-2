{
 "cells": [
  {
   "cell_type": "markdown",
   "metadata": {},
   "source": [
    "![](figure5.2.png) "
   ]
  },
  {
   "cell_type": "code",
   "execution_count": 1,
   "metadata": {},
   "outputs": [],
   "source": [
    "from game import *\n",
    "\n",
    "# Ply 1\n",
    "A = State(player=Player.MAX, label='A')\n",
    "# Ply 2\n",
    "[B, C, D] = [State(player=Player.MIN, label=chr(ord('B') + i)) for i in range(3)]\n",
    "\n",
    "A.children = {'a1': B, 'a2': C, 'a3': D}\n",
    "\n",
    "B.children = {'b1': State(player=Player.MAX, label='B1', util=3),\n",
    "              'b2': State(player=Player.MAX, label='B2', util=12),\n",
    "              'b3': State(player=Player.MAX, label='B3', util=8)}\n",
    "C.children = {'c1': State(player=Player.MAX, label='C1', util=2),\n",
    "              'c2': State(player=Player.MAX, label='C2', util=4),\n",
    "              'c3': State(player=Player.MAX, label='C3', util=6)}\n",
    "D.children = {'d1': State(player=Player.MAX, label='D1', util=14),\n",
    "              'd2': State(player=Player.MAX, label='D2', util=5),\n",
    "              'd3': State(player=Player.MAX, label='D3', util=2)}"
   ]
  },
  {
   "cell_type": "code",
   "execution_count": 2,
   "metadata": {},
   "outputs": [
    {
     "data": {
      "text/plain": [
       "(3, 'a1')"
      ]
     },
     "execution_count": 2,
     "metadata": {},
     "output_type": "execute_result"
    }
   ],
   "source": [
    "minimax_search(Game(), A)"
   ]
  },
  {
   "cell_type": "code",
   "execution_count": 3,
   "metadata": {},
   "outputs": [
    {
     "data": {
      "text/plain": [
       "(3, 'a1')"
      ]
     },
     "execution_count": 3,
     "metadata": {},
     "output_type": "execute_result"
    }
   ],
   "source": [
    "alphabeta_search(Game(), A)"
   ]
  }
 ],
 "metadata": {
  "kernelspec": {
   "display_name": "Python 3",
   "language": "python",
   "name": "python3"
  },
  "language_info": {
   "codemirror_mode": {
    "name": "ipython",
    "version": 3
   },
   "file_extension": ".py",
   "mimetype": "text/x-python",
   "name": "python",
   "nbconvert_exporter": "python",
   "pygments_lexer": "ipython3",
   "version": "3.10.4"
  },
  "orig_nbformat": 4
 },
 "nbformat": 4,
 "nbformat_minor": 2
}
