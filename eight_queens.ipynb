{
 "cells": [
  {
   "cell_type": "code",
   "execution_count": null,
   "metadata": {},
   "outputs": [],
   "source": [
    "import random\n",
    "import copy"
   ]
  },
  {
   "cell_type": "code",
   "execution_count": 21,
   "metadata": {},
   "outputs": [
    {
     "name": "stdout",
     "output_type": "stream",
     "text": [
      "17.0\n"
     ]
    }
   ],
   "source": [
    "def count_attacking_queens(state):\n",
    "    attacking_queens = 0\n",
    "    for col, row in enumerate(state):\n",
    "        for other_col, other_row in enumerate(state):\n",
    "            if col == other_col: continue\n",
    "            if row == other_row: attacking_queens += 1 # Same row\n",
    "            if (other_row + other_col) == (col + row): attacking_queens += 1 # Same diagonal => \\\n",
    "            if (row - col) == (other_row - other_col): attacking_queens += 1 # Same diagonal => /\n",
    "    return attacking_queens / 2\n",
    "\n",
    "# Count attacked pair of queens of Fig 4.3.b\n",
    "print(count_attacking_queens([3,2,1,4,3,2,1,2]))"
   ]
  },
  {
   "cell_type": "code",
   "execution_count": 22,
   "metadata": {},
   "outputs": [],
   "source": [
    "class Action:\n",
    "    def __init__(self, col, new_row):\n",
    "        self.col = col\n",
    "        self.new_row = new_row"
   ]
  },
  {
   "cell_type": "code",
   "execution_count": 23,
   "metadata": {},
   "outputs": [],
   "source": [
    "class Node:\n",
    "    def __init__(self, state, parent, action, path_cost):\n",
    "        self.state = state\n",
    "        self.parent = parent\n",
    "        self.action = action \n",
    "        self.path_cost = path_cost\n",
    "    \n",
    "    # Number of attacking pairs\n",
    "    @property\n",
    "    def value(self):\n",
    "        return -1 * count_attacking_queens(self.state)\n",
    "    \n",
    "\n",
    "def expand(problem, node):\n",
    "    s = node.state\n",
    "    child_nodes = []\n",
    "    for action in problem.actions(s):\n",
    "        s1 = problem.result(s, action)\n",
    "        cost = node.path_cost + problem.action_cost(s, action, s1)\n",
    "        child_nodes.append(Node(s1, node, action, cost))\n",
    "    return child_nodes"
   ]
  },
  {
   "cell_type": "code",
   "execution_count": 24,
   "metadata": {},
   "outputs": [],
   "source": [
    "class EightQueensProblem():\n",
    "    def __init__(self, initial_state): \n",
    "        self.initial_state = initial_state\n",
    "\n",
    "    def actions(self, state):\n",
    "        all_actions = []\n",
    "        for col, queen in enumerate(state):\n",
    "            for new_row in range(8):\n",
    "                if new_row == queen: continue\n",
    "                all_actions.append(Action(col, new_row))\n",
    "        return all_actions\n",
    "    \n",
    "    # Transition model\n",
    "    def result(self, state, action):\n",
    "        new_state = copy.deepcopy(state)\n",
    "        new_state[action.col] = action.new_row\n",
    "        return new_state\n",
    "    \n",
    "    # A set of one or more goals, in this problem there is only one goal state\n",
    "    def is_goal(self, state):\n",
    "        for i, queen in enumerate(state):\n",
    "            for j, other_queen in enumerate(state):\n",
    "                if j == i: continue\n",
    "                if other_queen == queen: return False # Same row\n",
    "                if other_queen + j == queen + i: return False # Same diagonal => \\\n",
    "                if j - other_queen == i - other_queen: return  False # Same diagonal => /\n",
    "        return True\n",
    "    \n",
    "    def action_cost(self, s, a, s1): return 1\n",
    "\n",
    "    def find_best_neighbor(self, nodes: list[Node]):\n",
    "        random.shuffle(nodes)\n",
    "        best_node = nodes[0]\n",
    "        for node in nodes:\n",
    "            if node.value > best_node.value:\n",
    "                best_node = node\n",
    "        return best_node\n",
    "        "
   ]
  },
  {
   "cell_type": "code",
   "execution_count": 25,
   "metadata": {},
   "outputs": [],
   "source": [
    "def hill_climbing(problem: EightQueensProblem):\n",
    "    current = Node(problem.initial_state, None, None, 0)\n",
    "    steps = 0\n",
    "    while True:\n",
    "        neighbors = expand(problem, current)\n",
    "        # No neighbors\n",
    "        if not len(neighbors): break\n",
    "\n",
    "        # Max neighbor\n",
    "        neighbor = problem.find_best_neighbor(neighbors)\n",
    "        \n",
    "        # No more higher value neighbor (at local max, or global max)\n",
    "        if neighbor.value <= current.value: break\n",
    "\n",
    "        # Continue walking\n",
    "        current = neighbor\n",
    "        steps += 1\n",
    "    \n",
    "    return current.state, steps\n"
   ]
  },
  {
   "cell_type": "code",
   "execution_count": 26,
   "metadata": {},
   "outputs": [
    {
     "name": "stdout",
     "output_type": "stream",
     "text": [
      "------Hill climbing---------\n",
      "- Average steps to succeed: 4.121212121212121\n",
      "- Average steps before failure: 3.055299539170507\n",
      "- Number of success: 132 13.200000000000001%\n",
      "- Number of failure: 868 86.8%\n"
     ]
    }
   ],
   "source": [
    "def solve_random_board_hill_climbing(num_of_board):\n",
    "    succeeded_records = []\n",
    "    failed_records = []\n",
    "    for i in range(num_of_board):\n",
    "        p = EightQueensProblem([random.randint(0, 7) for i in range(8)])\n",
    "        sol, steps = hill_climbing(p)\n",
    "        if count_attacking_queens(sol) == 0: \n",
    "            succeeded_records.append(steps)\n",
    "        else:\n",
    "            failed_records.append(steps)\n",
    "    print(\"------Hill climbing---------\")\n",
    "    print('- Average steps to succeed:', sum(succeeded_records) / len(succeeded_records))\n",
    "    print('- Average steps before failure:', sum(failed_records) / len(failed_records))\n",
    "    print('- Number of success:', len(succeeded_records), f'{len(succeeded_records)/num_of_board * 100}%')\n",
    "    print('- Number of failure:', len(failed_records), f'{len(failed_records)/num_of_board * 100}%')\n",
    "\n",
    "solve_random_board_hill_climbing(1000)"
   ]
  },
  {
   "cell_type": "code",
   "execution_count": 28,
   "metadata": {},
   "outputs": [],
   "source": [
    "def hill_climbing_with_sideway_move(problem: EightQueensProblem):\n",
    "    current = Node(problem.initial_state, parent=None, action=None, path_cost=0)\n",
    "    steps = 1\n",
    "    consecutive_limit = 99\n",
    "    while True:\n",
    "        neighbors = expand(problem, current)\n",
    "        # No neighbors\n",
    "        if not len(neighbors): break\n",
    "        \n",
    "        # Max neighbor\n",
    "        neighbor = problem.find_best_neighbor(neighbors)\n",
    "        \n",
    "        if neighbor.value < current.value: break\n",
    "        \n",
    "        # No better value neighbors (hill-climbing is at the plateau)\n",
    "        if neighbor.value == current.value:\n",
    "            if consecutive_limit <= 0: break\n",
    "            else: consecutive_limit -= 1\n",
    "        \n",
    "        # Continue walking\n",
    "        current = neighbor\n",
    "        steps += 1\n",
    "    return current.state, steps"
   ]
  },
  {
   "cell_type": "code",
   "execution_count": 29,
   "metadata": {},
   "outputs": [
    {
     "name": "stdout",
     "output_type": "stream",
     "text": [
      "------Hill climbing with side way move (limit 100)--------\n",
      "- Average steps to succeed:  20.192680301399353\n",
      "- Average steps before failure:  66.25352112676056\n",
      "- Number of success:  929 92.9%\n",
      "- Number of failure:  71 7.1%\n"
     ]
    }
   ],
   "source": [
    "def solve_random_board_hill_climbing_with_sideway(num_of_board):\n",
    "    succeeded_records = []\n",
    "    failed_records = []\n",
    "    for i in range(num_of_board):\n",
    "        p = EightQueensProblem([random.randint(0, 7) for i in range(8)])\n",
    "        sol, steps = hill_climbing_with_sideway_move(p)\n",
    "        if count_attacking_queens(sol) == 0: \n",
    "            succeeded_records.append(steps)\n",
    "        else:\n",
    "            failed_records.append(steps)\n",
    "\n",
    "    print(\"------Hill climbing with side way move (limit 100)--------\")\n",
    "    print('- Average steps to succeed: ', sum(succeeded_records) / len(succeeded_records))\n",
    "    print('- Average steps before failure: ', sum(failed_records) / len(failed_records))\n",
    "    print('- Number of success: ', len(succeeded_records), f'{len(succeeded_records)/num_of_board * 100}%')\n",
    "    print('- Number of failure: ', len(failed_records), f'{len(failed_records)/num_of_board * 100}%')\n",
    "\n",
    "solve_random_board_hill_climbing_with_sideway(1000)"
   ]
  }
 ],
 "metadata": {
  "kernelspec": {
   "display_name": "Python 3",
   "language": "python",
   "name": "python3"
  },
  "language_info": {
   "codemirror_mode": {
    "name": "ipython",
    "version": 3
   },
   "file_extension": ".py",
   "mimetype": "text/x-python",
   "name": "python",
   "nbconvert_exporter": "python",
   "pygments_lexer": "ipython3",
   "version": "3.10.4"
  },
  "orig_nbformat": 4
 },
 "nbformat": 4,
 "nbformat_minor": 2
}
